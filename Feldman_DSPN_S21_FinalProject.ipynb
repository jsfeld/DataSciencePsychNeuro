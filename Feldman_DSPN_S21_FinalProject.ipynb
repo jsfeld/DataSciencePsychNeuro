{
  "nbformat": 4,
  "nbformat_minor": 0,
  "metadata": {
    "colab": {
      "name": "Feldman_DSPN_S21_FinalProject.ipynb",
      "provenance": [],
      "authorship_tag": "ABX9TyOwf7Sue5s7OCG97dbVg3FR",
      "include_colab_link": true
    },
    "kernelspec": {
      "name": "ir",
      "display_name": "R"
    },
    "language_info": {
      "name": "R"
    }
  },
  "cells": [
    {
      "cell_type": "markdown",
      "metadata": {
        "id": "view-in-github",
        "colab_type": "text"
      },
      "source": [
        "<a href=\"https://colab.research.google.com/github/jsfeld/DataSciencePsychNeuro/blob/master/Feldman_DSPN_S21_FinalProject.ipynb\" target=\"_parent\"><img src=\"https://colab.research.google.com/assets/colab-badge.svg\" alt=\"Open In Colab\"/></a>"
      ]
    },
    {
      "cell_type": "code",
      "metadata": {
        "id": "eEyMCI3ldEgn"
      },
      "source": [
        ""
      ],
      "execution_count": null,
      "outputs": []
    }
  ]
}